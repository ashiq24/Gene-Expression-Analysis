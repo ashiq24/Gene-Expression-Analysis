{
 "cells": [
  {
   "cell_type": "code",
   "execution_count": 1,
   "metadata": {
    "collapsed": true
   },
   "outputs": [],
   "source": [
    "import numpy as np"
   ]
  },
  {
   "cell_type": "code",
   "execution_count": 17,
   "metadata": {},
   "outputs": [],
   "source": [
    "from scipy.io.arff import loadarff\n",
    "from random import shuffle\n",
    "lines,meta = loadarff('Ovarian.arff')\n",
    "lines=lines.tolist()\n",
    "#print lines[0]\n",
    "shuffle(lines)\n",
    "shuffle(lines)\n",
    "shuffle(lines)\n",
    "shuffle(lines)\n",
    "shuffle(lines)\n",
    "shuffle(lines)\n",
    "#lines=[ i.split('\\t') for i in lines]\n",
    "categories=[i[len(i)-1] for i in lines]\n",
    "lines=[i[0:len(i)-1] for i in lines]\n",
    "lines=[[float(j) for j in i] for i in lines]"
   ]
  },
  {
   "cell_type": "code",
   "execution_count": 9,
   "metadata": {},
   "outputs": [
    {
     "name": "stdout",
     "output_type": "stream",
     "text": [
      "43\n"
     ]
    }
   ],
   "source": [
    "#from random import shuffle\n",
    "#filename='braintumor.tab'\n",
    "#with open(filename) as f:\n",
    "#    lines=f.read().splitlines()\n",
    "#    print len(lines)\n",
    "#    lines=lines[3:]\n",
    "#    shuffle(lines)\n",
    "#    shuffle(lines)\n",
    "#    shuffle(lines)\n",
    "#    shuffle(lines)\n",
    "#    shuffle(lines)\n",
    "#    shuffle(lines)\n",
    "#    lines=[ i.split('\\t') for i in lines]\n",
    "#    categories=[i[len(i)-1] for i in lines]\n",
    "#    lines=[i[0:len(i)-1] for i in lines]\n",
    "#    lines=[[float(j) for j in i] for i in lines]"
   ]
  },
  {
   "cell_type": "code",
   "execution_count": 18,
   "metadata": {},
   "outputs": [
    {
     "name": "stdout",
     "output_type": "stream",
     "text": [
      "15154\n",
      "253\n",
      "['Normal', 'Normal', 'Cancer', 'Cancer', 'Normal', 'Cancer', 'Cancer', 'Cancer', 'Normal', 'Normal']\n"
     ]
    }
   ],
   "source": [
    "print len(lines[0])\n",
    "print len(lines)\n",
    "print categories[0:10]\n"
   ]
  },
  {
   "cell_type": "code",
   "execution_count": 20,
   "metadata": {
    "collapsed": true
   },
   "outputs": [],
   "source": [
    "for i in range(len(lines[0])):\n",
    "    base=0\n",
    "    for j in range(len(lines)):\n",
    "        if(base>lines[j][i]):\n",
    "            base=lines[j][i]\n",
    "    base=base*-1\n",
    "    for j in range(len(lines)):\n",
    "        lines[j][i]+=base\n",
    "for i in range(len(lines[0])):\n",
    "    base=1\n",
    "    for j in range(len(lines)):\n",
    "        if(base<lines[j][i]):\n",
    "            base=lines[j][i]\n",
    "    for j in range(len(lines)):\n",
    "        lines[j][i]/=base"
   ]
  },
  {
   "cell_type": "code",
   "execution_count": 21,
   "metadata": {
    "collapsed": true
   },
   "outputs": [],
   "source": [
    "lines=lines[228:253]+lines[0:228]\n",
    "categories=categories[228:253]+categories[0:228]"
   ]
  },
  {
   "cell_type": "code",
   "execution_count": 22,
   "metadata": {},
   "outputs": [
    {
     "name": "stdout",
     "output_type": "stream",
     "text": [
      "[0, 0, 0, 0, 0, 0, 1, 0, 0, 0, 0, 1, 0, 0, 0, 1, 1, 1, 0, 0]\n"
     ]
    }
   ],
   "source": [
    "C=sorted(list(set(categories)))\n",
    "Map= dict((c, i) for i, c in enumerate(C))\n",
    "Y=[]\n",
    "for i in categories:\n",
    "    Y.append(Map[i])\n",
    "print Y[0:20]"
   ]
  },
  {
   "cell_type": "code",
   "execution_count": 23,
   "metadata": {
    "collapsed": true
   },
   "outputs": [],
   "source": [
    "from sklearn.feature_selection import SelectKBest\n",
    "from sklearn.feature_selection import chi2,f_classif, mutual_info_classif\n",
    "f=SelectKBest(chi2, k=2000)\n",
    "xlines = f.fit_transform(lines[0:228], Y[0:228])\n",
    "mast=f.get_support()"
   ]
  },
  {
   "cell_type": "code",
   "execution_count": 24,
   "metadata": {
    "collapsed": true
   },
   "outputs": [],
   "source": [
    "feachers=[]\n",
    "i=0\n",
    "for bool in mast:\n",
    "    if bool:\n",
    "        feachers.append(i)\n",
    "    i+=1"
   ]
  },
  {
   "cell_type": "code",
   "execution_count": 25,
   "metadata": {},
   "outputs": [
    {
     "name": "stderr",
     "output_type": "stream",
     "text": [
      "Using TensorFlow backend.\n"
     ]
    },
    {
     "name": "stdout",
     "output_type": "stream",
     "text": [
      "2000\n"
     ]
    }
   ],
   "source": [
    "from keras.utils import np_utils\n",
    "Y=np_utils.to_categorical(Y)\n",
    "X=np.array(xlines)\n",
    "print(len(xlines[0]))"
   ]
  },
  {
   "cell_type": "code",
   "execution_count": 26,
   "metadata": {
    "collapsed": true
   },
   "outputs": [],
   "source": [
    "from keras.models import Sequential\n",
    "from keras.layers import Dense\n",
    "from keras.layers import Dropout ,ActivityRegularization,LeakyReLU\n"
   ]
  },
  {
   "cell_type": "code",
   "execution_count": 29,
   "metadata": {},
   "outputs": [
    {
     "name": "stdout",
     "output_type": "stream",
     "text": [
      "_________________________________________________________________\n",
      "Layer (type)                 Output Shape              Param #   \n",
      "=================================================================\n",
      "dense_4 (Dense)              (None, 3000)              6003000   \n",
      "_________________________________________________________________\n",
      "leaky_re_lu_3 (LeakyReLU)    (None, 3000)              0         \n",
      "_________________________________________________________________\n",
      "activity_regularization_3 (A (None, 3000)              0         \n",
      "_________________________________________________________________\n",
      "dense_5 (Dense)              (None, 1000)              3001000   \n",
      "_________________________________________________________________\n",
      "leaky_re_lu_4 (LeakyReLU)    (None, 1000)              0         \n",
      "_________________________________________________________________\n",
      "activity_regularization_4 (A (None, 1000)              0         \n",
      "_________________________________________________________________\n",
      "dense_6 (Dense)              (None, 2)                 2002      \n",
      "=================================================================\n",
      "Total params: 9,006,002\n",
      "Trainable params: 9,006,002\n",
      "Non-trainable params: 0\n",
      "_________________________________________________________________\n"
     ]
    }
   ],
   "source": [
    "model = Sequential()\n",
    "model.add(Dense(3000, activation='linear',input_shape=(2000,)))\n",
    "model.add(LeakyReLU(alpha=.001))\n",
    "model.add(ActivityRegularization(l2=0.001))\n",
    "model.add(Dense(1000, activation='linear'))\n",
    "model.add(LeakyReLU(alpha=.001))\n",
    "model.add(ActivityRegularization(l2=0.001))\n",
    "#model.add(Dense(800, activation='elu'))\n",
    "#model.add(ActivityRegularization(l2=0.01))\n",
    "#model.add(Dense(500, activation='elu'))\n",
    "#model.add(Dense(100, activation='elu'))\n",
    "#model.add(Dense(100, activation='elu'))\n",
    "#model.add(Dense(100, activation='elu'))\n",
    "model.add(Dense(2, activation='softmax'))\n",
    "model.compile(optimizer='adam',\n",
    "              loss='categorical_crossentropy',\n",
    "              metrics=['accuracy'])\n",
    "model.summary()"
   ]
  },
  {
   "cell_type": "code",
   "execution_count": 30,
   "metadata": {},
   "outputs": [
    {
     "name": "stdout",
     "output_type": "stream",
     "text": [
      "Epoch 1/20\n",
      "228/228 [==============================] - 2s - loss: 2.9346 - acc: 0.7237     \n",
      "Epoch 2/20\n",
      "228/228 [==============================] - 2s - loss: 0.5480 - acc: 0.9298     \n",
      "Epoch 3/20\n",
      "228/228 [==============================] - 2s - loss: 0.3804 - acc: 0.9649     \n",
      "Epoch 4/20\n",
      "228/228 [==============================] - 2s - loss: 0.3076 - acc: 0.9781     \n",
      "Epoch 5/20\n",
      "228/228 [==============================] - 2s - loss: 0.2502 - acc: 0.9956     \n",
      "Epoch 6/20\n",
      "228/228 [==============================] - 2s - loss: 0.2409 - acc: 1.0000     \n",
      "Epoch 7/20\n",
      "228/228 [==============================] - 2s - loss: 0.2143 - acc: 0.9781     \n",
      "Epoch 8/20\n",
      "228/228 [==============================] - 2s - loss: 0.1711 - acc: 1.0000     \n",
      "Epoch 9/20\n",
      "228/228 [==============================] - 2s - loss: 0.1545 - acc: 1.0000     \n",
      "Epoch 10/20\n",
      "228/228 [==============================] - 2s - loss: 0.1655 - acc: 0.9956     \n",
      "Epoch 11/20\n",
      "228/228 [==============================] - 2s - loss: 0.1355 - acc: 1.0000     \n",
      "Epoch 12/20\n",
      "228/228 [==============================] - 2s - loss: 0.1176 - acc: 1.0000     \n",
      "Epoch 13/20\n",
      "228/228 [==============================] - 2s - loss: 0.1236 - acc: 0.9956     \n",
      "Epoch 14/20\n",
      "228/228 [==============================] - 2s - loss: 0.2869 - acc: 0.9386     \n",
      "Epoch 15/20\n",
      "228/228 [==============================] - 2s - loss: 0.4424 - acc: 0.8333     \n",
      "Epoch 16/20\n",
      "228/228 [==============================] - 2s - loss: 0.2246 - acc: 0.9649     \n",
      "Epoch 17/20\n",
      "228/228 [==============================] - 2s - loss: 0.1820 - acc: 0.9781     \n",
      "Epoch 18/20\n",
      "228/228 [==============================] - 2s - loss: 0.1699 - acc: 0.9912     \n",
      "Epoch 19/20\n",
      "228/228 [==============================] - 2s - loss: 0.1448 - acc: 0.9956     \n",
      "Epoch 20/20\n",
      "228/228 [==============================] - 2s - loss: 0.1192 - acc: 1.0000     \n"
     ]
    },
    {
     "data": {
      "text/plain": [
       "<keras.callbacks.History at 0x7fba41ea5490>"
      ]
     },
     "execution_count": 30,
     "metadata": {},
     "output_type": "execute_result"
    }
   ],
   "source": [
    "model.fit(X,Y[0:228],epochs=20)\n"
   ]
  },
  {
   "cell_type": "code",
   "execution_count": 31,
   "metadata": {},
   "outputs": [
    {
     "name": "stdout",
     "output_type": "stream",
     "text": [
      "('Test loss:', 0.10078590363264084)\n",
      "('Test accuracy:', 1.0)\n"
     ]
    }
   ],
   "source": [
    "testx=[]\n",
    "for j in range(228,253,1):\n",
    "    m=[lines[j][i] for i in feachers]\n",
    "    testx.append(m)\n",
    "        \n",
    "testx=np.array(testx)\n",
    "\n",
    "score = model.evaluate(testx,Y[228:] ,verbose=0)\n",
    "print('Test loss:', score[0])\n",
    "print('Test accuracy:', score[1])"
   ]
  },
  {
   "cell_type": "code",
   "execution_count": null,
   "metadata": {
    "collapsed": true
   },
   "outputs": [],
   "source": []
  },
  {
   "cell_type": "code",
   "execution_count": null,
   "metadata": {
    "collapsed": true
   },
   "outputs": [],
   "source": []
  }
 ],
 "metadata": {
  "kernelspec": {
   "display_name": "Python 2",
   "language": "python",
   "name": "python2"
  },
  "language_info": {
   "codemirror_mode": {
    "name": "ipython",
    "version": 2
   },
   "file_extension": ".py",
   "mimetype": "text/x-python",
   "name": "python",
   "nbconvert_exporter": "python",
   "pygments_lexer": "ipython2",
   "version": "2.7.12"
  }
 },
 "nbformat": 4,
 "nbformat_minor": 2
}
